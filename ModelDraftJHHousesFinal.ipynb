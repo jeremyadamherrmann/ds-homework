{
 "cells": [
  {
   "cell_type": "markdown",
   "metadata": {},
   "source": [
    "# Modeling - Housing Data Ames, Iowa"
   ]
  },
  {
   "cell_type": "markdown",
   "metadata": {},
   "source": [
    "Jeremy Herrmann"
   ]
  },
  {
   "cell_type": "markdown",
   "metadata": {},
   "source": [
    "Import what we will use."
   ]
  },
  {
   "cell_type": "code",
   "execution_count": 1,
   "metadata": {
    "collapsed": true
   },
   "outputs": [],
   "source": [
    "import numpy as np\n",
    "import pandas as pd\n",
    "import seaborn as sns\n",
    "import matplotlib.pyplot as plt\n",
    "%matplotlib inline\n",
    "import sklearn.linear_model as lin\n",
    "from sklearn.cross_validation import cross_val_score\n",
    "from sklearn import metrics\n",
    "from sklearn.neighbors import KNeighborsRegressor\n",
    "from statistics import variance as var\n",
    "import sklearn.metrics\n",
    "from sklearn.ensemble import RandomForestRegressor"
   ]
  },
  {
   "cell_type": "markdown",
   "metadata": {},
   "source": [
    "Load the data and split it into a train and test set."
   ]
  },
  {
   "cell_type": "code",
   "execution_count": 2,
   "metadata": {
    "collapsed": false
   },
   "outputs": [],
   "source": [
    "train_whole = pd.read_csv(\"train_clean_csv.csv\", index_col=0)\n",
    "#test = pd.read_csv(\"test_clean_csv.csv\", index_col=0)\n",
    "target_whole = train_whole['SalePrice']\n",
    "train = train_whole.iloc[:1000,:]\n",
    "test = train_whole.iloc[1000:,:]\n",
    "train_target = train[\"SalePrice\"]\n",
    "test_target = test[\"SalePrice\"]"
   ]
  },
  {
   "cell_type": "markdown",
   "metadata": {},
   "source": [
    "Create variables that contain the names of different features so that I can access them more easily later on."
   ]
  },
  {
   "cell_type": "code",
   "execution_count": 3,
   "metadata": {
    "collapsed": true
   },
   "outputs": [],
   "source": [
    "cont_feat = [\"LotFrontage\", \"LotArea\", \"YearBuilt\", \"YearRemodAdd\", \"BsmtFinSF1\", \"MasVnrArea\",\n",
    "                   \"BsmtFinSF2\", \"BsmtUnfSF\", \"TotalBsmtSF\", \"1stFlrSF\", \"2ndFlrSF\", \n",
    "                \"LowQualFinSF\", \"GrLivArea\", \"BsmtFullBath\", \"BsmtHalfBath\", \"FullBath\", \"HalfBath\", \"BedroomAbvGr\", \"KitchenAbvGr\",\n",
    "                   \"TotRmsAbvGrd\", \"Fireplaces\", \"GarageCars\", \"GarageArea\", \"WoodDeckSF\", \"OpenPorchSF\", \"EnclosedPorch\",\n",
    "                   \"3SsnPorch\", \"ScreenPorch\", \"PoolArea\", \"MiscVal\"]"
   ]
  },
  {
   "cell_type": "code",
   "execution_count": 4,
   "metadata": {
    "collapsed": true
   },
   "outputs": [],
   "source": [
    "ord_feat = ['Street', 'LotShape', 'Utilities', 'LandSlope', 'OverallQual', 'OverallCond', 'ExterQual', 'ExterCond', \n",
    "            'BsmtQual', 'BsmtCond', 'BsmtExposure', 'BsmtFinType1', 'BsmtFinType2', 'HeatingQC', 'KitchenQual',\n",
    "           'Functional', 'FireplaceQu', 'GarageQual', 'GarageCond', 'PavedDrive', 'PoolQC']"
   ]
  },
  {
   "cell_type": "code",
   "execution_count": 5,
   "metadata": {
    "collapsed": true
   },
   "outputs": [],
   "source": [
    "dum_feat = ['MSSubClass_SC160','MSSubClass_SC180','MSSubClass_SC190','MSSubClass_SC20','MSSubClass_SC30',\n",
    " 'MSSubClass_SC40','MSSubClass_SC45','MSSubClass_SC50','MSSubClass_SC60','MSSubClass_SC70','MSSubClass_SC75',\n",
    " 'MSSubClass_SC80','MSSubClass_SC85','MSSubClass_SC90','MSZoning_FV','MSZoning_RH','MSZoning_RL','MSZoning_RM',\n",
    " 'Alley_2','Alley_None','LandContour_HLS','LandContour_Low','LandContour_Lvl','LotConfig_CulDSac','LotConfig_FR2','LotConfig_FR3',\n",
    " 'LotConfig_Inside','Neighborhood_Blueste','Neighborhood_BrDale','Neighborhood_BrkSide','Neighborhood_ClearCr','Neighborhood_CollgCr',\n",
    " 'Neighborhood_Crawfor','Neighborhood_Edwards','Neighborhood_Gilbert','Neighborhood_IDOTRR','Neighborhood_MeadowV',\n",
    " 'Neighborhood_Mitchel','Neighborhood_NAmes','Neighborhood_NPkVill','Neighborhood_NWAmes','Neighborhood_NoRidge','Neighborhood_NridgHt',\n",
    " 'Neighborhood_OldTown','Neighborhood_SWISU','Neighborhood_Sawyer','Neighborhood_SawyerW','Neighborhood_Somerst','Neighborhood_StoneBr',\n",
    " 'Neighborhood_Timber','Neighborhood_Veenker','Condition1_Feedr','Condition1_Norm','Condition1_PosA','Condition1_PosN',\n",
    " 'Condition1_RRAe','Condition1_RRAn','Condition1_RRNe','Condition1_RRNn','Condition2_Feedr','Condition2_Norm','Condition2_PosA',\n",
    " 'Condition2_PosN','Condition2_RRAe','Condition2_RRAn','Condition2_RRNn','BldgType_2fmCon','BldgType_Duplex','BldgType_Twnhs','BldgType_TwnhsE',\n",
    " 'HouseStyle_1.5Unf','HouseStyle_1Story','HouseStyle_2.5Fin','HouseStyle_2.5Unf','HouseStyle_2Story','HouseStyle_SFoyer',\n",
    " 'HouseStyle_SLvl','RoofStyle_Gable','RoofStyle_Gambrel','RoofStyle_Hip','RoofStyle_Mansard','RoofStyle_Shed',\n",
    " 'RoofMatl_CompShg','RoofMatl_Membran','RoofMatl_Metal','RoofMatl_Roll','RoofMatl_Tar&Grv','RoofMatl_WdShake',\n",
    " 'RoofMatl_WdShngl','Exterior1st_AsphShn','Exterior1st_BrkComm',\n",
    " 'Exterior1st_BrkFace',\n",
    " 'Exterior1st_CBlock',\n",
    " 'Exterior1st_CemntBd',\n",
    " 'Exterior1st_HdBoard',\n",
    " 'Exterior1st_ImStucc',\n",
    " 'Exterior1st_MetalSd',\n",
    " 'Exterior1st_Plywood',\n",
    " 'Exterior1st_Stone',\n",
    " 'Exterior1st_Stucco',\n",
    " 'Exterior1st_VinylSd',\n",
    " 'Exterior1st_Wd Sdng',\n",
    " 'Exterior1st_WdShing',\n",
    " 'Exterior2nd_AsphShn',\n",
    " 'Exterior2nd_Brk Cmn',\n",
    " 'Exterior2nd_BrkFace',\n",
    " 'Exterior2nd_CBlock',\n",
    " 'Exterior2nd_CmentBd',\n",
    " 'Exterior2nd_HdBoard',\n",
    " 'Exterior2nd_ImStucc',\n",
    " 'Exterior2nd_MetalSd',\n",
    " 'Exterior2nd_Other',\n",
    " 'Exterior2nd_Plywood',\n",
    " 'Exterior2nd_Stone',\n",
    " 'Exterior2nd_Stucco',\n",
    " 'Exterior2nd_VinylSd',\n",
    " 'Exterior2nd_Wd Sdng',\n",
    " 'Exterior2nd_Wd Shng',\n",
    " 'MasVnrType_BrkFace',\n",
    " 'MasVnrType_None',\n",
    " 'MasVnrType_Stone',\n",
    " 'Foundation_CBlock',\n",
    " 'Foundation_PConc',\n",
    " 'Foundation_Slab',\n",
    " 'Foundation_Stone',\n",
    " 'Foundation_Wood',\n",
    " 'Heating_GasA',\n",
    " 'Heating_GasW',\n",
    " 'Heating_Grav',\n",
    " 'Heating_OthW',\n",
    " 'Heating_Wall',\n",
    " 'CentralAir_Y',\n",
    " 'Electrical_FuseF',\n",
    " 'Electrical_FuseP',\n",
    " 'Electrical_Mix',\n",
    " 'Electrical_SBrkr',\n",
    " 'Electrical_Sbrkr',\n",
    " 'GarageType_Attchd',\n",
    " 'GarageType_Basment',\n",
    " 'GarageType_BuiltIn',\n",
    " 'GarageType_CarPort',\n",
    " 'GarageType_Detchd',\n",
    " 'GarageType_No',\n",
    " 'GarageFinish_No',\n",
    " 'GarageFinish_RFn',\n",
    " 'GarageFinish_Unf',\n",
    " 'Fence_GdWo',\n",
    " 'Fence_MnPrv',\n",
    " 'Fence_MnWw',\n",
    " 'Fence_No',\n",
    " 'MiscFeature_No',\n",
    " 'MiscFeature_Othr',\n",
    " 'MiscFeature_Shed',\n",
    " 'MiscFeature_TenC',\n",
    " 'MoSold_Aug',\n",
    " 'MoSold_Dec',\n",
    " 'MoSold_Feb',\n",
    " 'MoSold_Jan',\n",
    " 'MoSold_Jul',\n",
    " 'MoSold_Jun',\n",
    " 'MoSold_Mar',\n",
    " 'MoSold_May',\n",
    " 'MoSold_Nov',\n",
    " 'MoSold_Oct',\n",
    " 'MoSold_Sep',\n",
    " 'YrSold_2007',\n",
    " 'YrSold_2008',\n",
    " 'YrSold_2009',\n",
    " 'YrSold_2010',\n",
    " 'SaleType_CWD',\n",
    " 'SaleType_Con',\n",
    " 'SaleType_ConLD',\n",
    " 'SaleType_ConLI',\n",
    " 'SaleType_ConLw',\n",
    " 'SaleType_New',\n",
    " 'SaleType_Oth',\n",
    " 'SaleType_WD',\n",
    " 'SaleCondition_AdjLand',\n",
    " 'SaleCondition_Alloca',\n",
    " 'SaleCondition_Family',\n",
    " 'SaleCondition_Normal',\n",
    " 'SaleCondition_Partial']"
   ]
  },
  {
   "cell_type": "code",
   "execution_count": 6,
   "metadata": {
    "collapsed": true
   },
   "outputs": [],
   "source": [
    "num_feat = cont_feat + ord_feat"
   ]
  },
  {
   "cell_type": "code",
   "execution_count": 23,
   "metadata": {
    "collapsed": true
   },
   "outputs": [],
   "source": [
    "num_sale_feat = num_feat + ['SalePrice']"
   ]
  },
  {
   "cell_type": "code",
   "execution_count": 7,
   "metadata": {
    "collapsed": true
   },
   "outputs": [],
   "source": [
    "top_feat = ['GrLivArea', 'OverallQual', 'YearBuilt']"
   ]
  },
  {
   "cell_type": "markdown",
   "metadata": {},
   "source": [
    "Define a function to calculate the Root Mean Squared Error which it the scoring metric for the Kaggle competiton"
   ]
  },
  {
   "cell_type": "code",
   "execution_count": 8,
   "metadata": {
    "collapsed": true
   },
   "outputs": [],
   "source": [
    "def rmse(resid):\n",
    "    return np.sqrt(resid ** 2).mean()"
   ]
  },
  {
   "cell_type": "markdown",
   "metadata": {},
   "source": [
    "### Linear"
   ]
  },
  {
   "cell_type": "markdown",
   "metadata": {},
   "source": [
    "I will train a linear model using the top 3 features and compare that with a linear model that uses all of the features."
   ]
  },
  {
   "cell_type": "code",
   "execution_count": 9,
   "metadata": {
    "collapsed": false
   },
   "outputs": [
    {
     "name": "stdout",
     "output_type": "stream",
     "text": [
      "0.761274909055\n",
      "0.13998575586543807\n",
      "0.182494731186\n",
      "[ 0.17576618  0.18896165  0.18399367  0.16876171  0.19499045]\n"
     ]
    }
   ],
   "source": [
    "L_1 = lin.LinearRegression()\n",
    "L_1.fit(train[top_feat],train_target)\n",
    "print( L_1.score(test[top_feat],test_target) )\n",
    "L_1_predictions = L_1.predict(test[top_feat])\n",
    "L_1_resid = test_target - L_1_predictions\n",
    "print( rmse(L_1_resid) )\n",
    "L_1_scores = -cross_val_score(L_1, train_whole[top_feat], target_whole, cv=5, scoring='mean_squared_error')\n",
    "print( np.mean(np.sqrt(L_1_scores)) )\n",
    "print( np.sqrt(L_1_scores) )"
   ]
  },
  {
   "cell_type": "markdown",
   "metadata": {},
   "source": [
    "The linear model train using the top 3 features explains 76% of the variation in the test set and has an RMSE of about .14.  For comparison, the best Kaggle score RMSE is .10 and halfway down the leaderboard is .13.  When using crossvalscore on all of the data, the average RMSE was .18."
   ]
  },
  {
   "cell_type": "code",
   "execution_count": 10,
   "metadata": {
    "collapsed": false
   },
   "outputs": [
    {
     "name": "stdout",
     "output_type": "stream",
     "text": [
      "-1.32078218828e+22\n",
      "5966363424.362151\n",
      "[  2.36765182e-01   1.28232205e+11   8.08825059e+10   2.68559473e+11\n",
      "   3.78963440e+10]\n"
     ]
    }
   ],
   "source": [
    "L_2 = lin.LinearRegression()\n",
    "L_2.fit(train[cont_feat + ord_feat + dum_feat],train_target)\n",
    "print( L_2.score(test[cont_feat + ord_feat + dum_feat],test_target) )\n",
    "L_2_predictions = L_2.predict(test[cont_feat + ord_feat + dum_feat])\n",
    "L_2_resid = test_target - L_2_predictions\n",
    "print( rmse(L_2_resid) )\n",
    "L_2_scores = -cross_val_score(L_2, train_whole[cont_feat + ord_feat + dum_feat], target_whole, cv=5, scoring='mean_squared_error')\n",
    "print( np.sqrt(L_2_scores) )"
   ]
  },
  {
   "cell_type": "markdown",
   "metadata": {},
   "source": [
    "I get crazy things that make no sense when I use the dummy features.  I suspect that maybe there is redundancy amongst dummy columns of different variables causing the linear algebra not to work?"
   ]
  },
  {
   "cell_type": "code",
   "execution_count": 11,
   "metadata": {
    "collapsed": false
   },
   "outputs": [
    {
     "name": "stdout",
     "output_type": "stream",
     "text": [
      "0.843823264681\n",
      "0.09231925999627534\n",
      "0.252386354196\n",
      "[ 0.1197511   0.15278841  0.13391187  0.68416393  0.17131647]\n"
     ]
    }
   ],
   "source": [
    "L_3 = lin.LinearRegression()\n",
    "L_3.fit(train[cont_feat + ord_feat],train_target)\n",
    "print( L_3.score(test[cont_feat + ord_feat],test_target) )\n",
    "L_3_predictions = L_3.predict(test[cont_feat + ord_feat])\n",
    "L_3_resid = test_target - L_3_predictions\n",
    "print( rmse(L_3_resid) )\n",
    "L_3_scores = -cross_val_score(L_3, train_whole[cont_feat + ord_feat], target_whole, cv=5, scoring='mean_squared_error')\n",
    "print( np.mean(np.sqrt(L_3_scores)) )\n",
    "print( np.sqrt(L_3_scores) )"
   ]
  },
  {
   "cell_type": "markdown",
   "metadata": {},
   "source": [
    "The model seems to do worse with all continuous and ordinal features.  There is something about that 4th test."
   ]
  },
  {
   "cell_type": "markdown",
   "metadata": {},
   "source": [
    "### Nearest Neighbor"
   ]
  },
  {
   "cell_type": "code",
   "execution_count": 12,
   "metadata": {
    "collapsed": false
   },
   "outputs": [
    {
     "name": "stdout",
     "output_type": "stream",
     "text": [
      "0.796768666574\n",
      "0.13057056080129611\n",
      "0.17737205328\n",
      "[ 0.17653408  0.18612877  0.18297703  0.16400007  0.17722031]\n"
     ]
    }
   ],
   "source": [
    "K_1 = KNeighborsRegressor(n_neighbors=25, weights=\"distance\")\n",
    "K_1.fit(train[top_feat],train_target)\n",
    "print( K_1.score(test[top_feat],test_target) )\n",
    "K_1_predictions = K_1.predict(test[top_feat])\n",
    "K_1_resid = test_target - K_1_predictions\n",
    "print( rmse(K_1_resid) )\n",
    "K_1_scores = -cross_val_score(K_1, train_whole[top_feat], target_whole, cv=5, scoring='mean_squared_error')\n",
    "print( np.mean(np.sqrt(K_1_scores)) )\n",
    "print( np.sqrt(K_1_scores) )"
   ]
  },
  {
   "cell_type": "markdown",
   "metadata": {},
   "source": [
    "Not suprisingly, this performs similarly to the linear model trained on the same features."
   ]
  },
  {
   "cell_type": "markdown",
   "metadata": {},
   "source": [
    "### Random Forest"
   ]
  },
  {
   "cell_type": "markdown",
   "metadata": {},
   "source": [
    "Building a random forest with the top features as well, produces similar results."
   ]
  },
  {
   "cell_type": "code",
   "execution_count": 13,
   "metadata": {
    "collapsed": false
   },
   "outputs": [
    {
     "name": "stdout",
     "output_type": "stream",
     "text": [
      "0.776132901726\n",
      "0.13735546986522956\n",
      "0.18566722736\n",
      "[ 0.18810573  0.19864704  0.18969268  0.168054    0.1838367 ]\n"
     ]
    }
   ],
   "source": [
    "R_1 = RandomForestRegressor(n_estimators = 50)\n",
    "R_1.fit(train[top_feat],train_target)\n",
    "print( R_1.score(test[top_feat],test_target) )\n",
    "R_1_predictions = R_1.predict(test[top_feat])\n",
    "R_1_resid = test_target - R_1_predictions\n",
    "print( rmse(R_1_resid) )\n",
    "R_1_scores = -cross_val_score(R_1, train_whole[top_feat], target_whole, cv=5, scoring='mean_squared_error')\n",
    "print( np.mean(np.sqrt(R_1_scores)) )\n",
    "print( np.sqrt(R_1_scores) )"
   ]
  },
  {
   "cell_type": "code",
   "execution_count": 14,
   "metadata": {
    "collapsed": false
   },
   "outputs": [
    {
     "name": "stdout",
     "output_type": "stream",
     "text": [
      "0.863643155403\n",
      "0.09970326056792062\n",
      "0.142311740386\n",
      "[ 0.13633334  0.15296239  0.14325683  0.12968726  0.14931888]\n"
     ]
    }
   ],
   "source": [
    "R_2 = RandomForestRegressor(n_estimators = 500)\n",
    "R_2.fit(train[cont_feat + ord_feat + dum_feat],train_target)\n",
    "print( R_2.score(test[cont_feat + ord_feat + dum_feat],test_target) )\n",
    "R_2_predictions = R_2.predict(test[cont_feat + ord_feat + dum_feat])\n",
    "R_2_resid = test_target - R_2_predictions\n",
    "print( rmse(R_2_resid) )\n",
    "R_2_scores = -cross_val_score(R_2, train_whole[cont_feat + ord_feat + dum_feat], target_whole, cv=5, scoring='mean_squared_error')\n",
    "print( np.mean(np.sqrt(R_2_scores)) )\n",
    "print( np.sqrt(R_2_scores) )"
   ]
  },
  {
   "cell_type": "markdown",
   "metadata": {},
   "source": [
    "A random forest with all features performs well."
   ]
  },
  {
   "cell_type": "code",
   "execution_count": 15,
   "metadata": {
    "collapsed": false
   },
   "outputs": [
    {
     "name": "stderr",
     "output_type": "stream",
     "text": [
      "C:\\Users\\jherrmann\\AppData\\Local\\Continuum\\Anaconda3\\lib\\site-packages\\ipykernel\\__main__.py:6: FutureWarning: sort(columns=....) is deprecated, use sort_values(by=.....)\n"
     ]
    },
    {
     "data": {
      "text/plain": [
       "(       Features  Importance Score\n",
       " 34  OverallQual          0.551454\n",
       " 12    GrLivArea          0.111915\n",
       " 8   TotalBsmtSF          0.045081\n",
       " 21   GarageCars          0.029651\n",
       " 9      1stFlrSF          0.026245,                 Features  Importance Score\n",
       " 140  Exterior1st_AsphShn               0.0\n",
       " 204     MiscFeature_TenC               0.0\n",
       " 136        RoofMatl_Roll               0.0\n",
       " 180         Heating_OthW               0.0\n",
       " 187     Electrical_Sbrkr               0.0)"
      ]
     },
     "execution_count": 15,
     "metadata": {},
     "output_type": "execute_result"
    }
   ],
   "source": [
    "features = cont_feat + ord_feat + dum_feat\n",
    "\n",
    "feature_importances = R_2.feature_importances_\n",
    "\n",
    "features_df = pd.DataFrame({'Features': features, 'Importance Score': feature_importances})\n",
    "features_df.sort('Importance Score', inplace=True, ascending=False)\n",
    "\n",
    "features_df.head(), features_df.tail()"
   ]
  },
  {
   "cell_type": "markdown",
   "metadata": {
    "collapsed": true
   },
   "source": [
    "### Building One Step at a Time"
   ]
  },
  {
   "cell_type": "markdown",
   "metadata": {},
   "source": [
    "I will add the most highly correlated feature one at a time, and then find the next feature by looking at what is correlated with the residuals.  Using only linear regression, I end up with a cross val score average of .15.  Similar results come from a random forest using the same features.  I end up using ['OverallQual','LotArea', 'GrLivArea', 'YearBuilt', 'BsmtFinSF1', 'OverallCond'].  I want to try more ways in which I can also incorporate nearest neighbor and some other features if they are useful.  I will also try to install xgboost and maybe I will ask you for help next week if I am unsuccessful.  I feel like I would need xgboost to get a score higher than average on the Kaggle leaderboard>"
   ]
  },
  {
   "cell_type": "code",
   "execution_count": 18,
   "metadata": {
    "collapsed": false
   },
   "outputs": [
    {
     "name": "stdout",
     "output_type": "stream",
     "text": [
      "SalePrice      1.000000\n",
      "OverallQual    0.821378\n",
      "GrLivArea      0.748481\n",
      "GarageCars     0.690545\n",
      "ExterQual      0.682985\n",
      "Name: SalePrice, dtype: float64\n"
     ]
    },
    {
     "data": {
      "text/plain": [
       "EnclosedPorch   -0.131662\n",
       "KitchenAbvGr    -0.139685\n",
       "LotShape        -0.263545\n",
       "YearRemodAdd    -0.588875\n",
       "YearBuilt       -0.590868\n",
       "Name: SalePrice, dtype: float64"
      ]
     },
     "execution_count": 18,
     "metadata": {},
     "output_type": "execute_result"
    }
   ],
   "source": [
    "corr_with_resid = train[num_feat + [\"SalePrice\"]].corr()\n",
    "print( corr_with_resid['SalePrice'].sort_values(ascending=False).head() )\n",
    "corr_with_resid['SalePrice'].sort_values(ascending=False).tail()"
   ]
  },
  {
   "cell_type": "code",
   "execution_count": 21,
   "metadata": {
    "collapsed": false
   },
   "outputs": [
    {
     "name": "stdout",
     "output_type": "stream",
     "text": [
      "0.651542234375\n",
      "0.17262514643998877\n",
      "0.229726020832\n",
      "[ 0.22320136  0.24919432  0.23368375  0.21268233  0.22986834]\n"
     ]
    }
   ],
   "source": [
    "L_4 = lin.LinearRegression()\n",
    "L_4.fit(train[['OverallQual']],train_target)\n",
    "print( L_4.score(test[['OverallQual']],test_target) )\n",
    "L_4_predictions = L_4.predict(test[['OverallQual']])\n",
    "L_4_resid = test_target - L_4_predictions\n",
    "print( rmse(L_4_resid) )\n",
    "L_4_scores = -cross_val_score(L_4, train_whole[['OverallQual']], target_whole, cv=5, scoring='mean_squared_error')\n",
    "print( np.mean(np.sqrt(L_4_scores)) )\n",
    "print( np.sqrt(L_4_scores) )\n",
    "\n",
    "L_4_predictions_t = L_4.predict(train[['OverallQual']])\n",
    "L_4_resid_t = train_target - L_4_predictions_t"
   ]
  },
  {
   "cell_type": "code",
   "execution_count": 36,
   "metadata": {
    "collapsed": false
   },
   "outputs": [
    {
     "name": "stdout",
     "output_type": "stream",
     "text": [
      "SalePrice     1.000000\n",
      "LotArea       0.445630\n",
      "1stFlrSF      0.427286\n",
      "GrLivArea     0.409588\n",
      "BsmtFinSF1    0.355845\n",
      "Name: SalePrice, dtype: float64\n"
     ]
    },
    {
     "data": {
      "text/plain": [
       "EnclosedPorch   -0.079759\n",
       "LandSlope       -0.171876\n",
       "YearBuilt       -0.216555\n",
       "YearRemodAdd    -0.216702\n",
       "LotShape        -0.218905\n",
       "Name: SalePrice, dtype: float64"
      ]
     },
     "execution_count": 36,
     "metadata": {},
     "output_type": "execute_result"
    }
   ],
   "source": [
    "corr_with_resid = train[num_feat].join(L_4_resid_t).corr()\n",
    "print( corr_with_resid['SalePrice'].sort_values(ascending=False).head() )\n",
    "corr_with_resid['SalePrice'].sort_values(ascending=False).tail()"
   ]
  },
  {
   "cell_type": "code",
   "execution_count": 37,
   "metadata": {
    "collapsed": false
   },
   "outputs": [
    {
     "name": "stdout",
     "output_type": "stream",
     "text": [
      "0.716408873423\n",
      "0.15178862844459268\n",
      "0.205757278886\n",
      "[ 0.19692047  0.22119704  0.20825042  0.19713576  0.2052827 ]\n"
     ]
    }
   ],
   "source": [
    "L_5 = lin.LinearRegression()\n",
    "L_5.fit(train[['OverallQual','LotArea']],train_target)\n",
    "print( L_5.score(test[['OverallQual','LotArea']],test_target) )\n",
    "L_5_predictions = L_5.predict(test[['OverallQual','LotArea']])\n",
    "L_5_resid = test_target - L_5_predictions\n",
    "print( rmse(L_5_resid) )\n",
    "L_5_scores = -cross_val_score(L_5, train_whole[['OverallQual','LotArea']], target_whole, cv=5, scoring='mean_squared_error')\n",
    "print( np.mean(np.sqrt(L_5_scores)) )\n",
    "print( np.sqrt(L_5_scores) )\n",
    "\n",
    "L_5_predictions_t = L_5.predict(train[['OverallQual','LotArea']])\n",
    "L_5_resid_t = train_target - L_5_predictions_t"
   ]
  },
  {
   "cell_type": "code",
   "execution_count": 38,
   "metadata": {
    "collapsed": false
   },
   "outputs": [
    {
     "name": "stdout",
     "output_type": "stream",
     "text": [
      "SalePrice       1.000000\n",
      "GrLivArea       0.325252\n",
      "BsmtFinSF1      0.299122\n",
      "BsmtFinType1    0.292778\n",
      "1stFlrSF        0.278444\n",
      "Name: SalePrice, dtype: float64\n"
     ]
    },
    {
     "data": {
      "text/plain": [
       "LotShape        -0.079575\n",
       "BsmtUnfSF       -0.089788\n",
       "EnclosedPorch   -0.117329\n",
       "YearRemodAdd    -0.279429\n",
       "YearBuilt       -0.285864\n",
       "Name: SalePrice, dtype: float64"
      ]
     },
     "execution_count": 38,
     "metadata": {},
     "output_type": "execute_result"
    }
   ],
   "source": [
    "corr_with_resid = train[num_feat].join(L_5_resid_t).corr()\n",
    "print( corr_with_resid['SalePrice'].sort_values(ascending=False).head() )\n",
    "corr_with_resid['SalePrice'].sort_values(ascending=False).tail()"
   ]
  },
  {
   "cell_type": "code",
   "execution_count": 39,
   "metadata": {
    "collapsed": false
   },
   "outputs": [
    {
     "name": "stdout",
     "output_type": "stream",
     "text": [
      "0.742849888173\n",
      "0.14230580888179942\n",
      "0.188169630136\n",
      "[ 0.17905187  0.19682267  0.18839104  0.17789251  0.19869005]\n"
     ]
    }
   ],
   "source": [
    "L_6 = lin.LinearRegression()\n",
    "L_6.fit(train[['OverallQual','LotArea', 'GrLivArea']],train_target)\n",
    "print( L_6.score(test[['OverallQual','LotArea', 'GrLivArea']],test_target) )\n",
    "L_6_predictions = L_6.predict(test[['OverallQual','LotArea', 'GrLivArea']])\n",
    "L_6_resid = test_target - L_6_predictions\n",
    "print( rmse(L_6_resid) )\n",
    "L_6_scores = -cross_val_score(L_6, train_whole[['OverallQual','LotArea', 'GrLivArea']], target_whole, cv=5, scoring='mean_squared_error')\n",
    "print( np.mean(np.sqrt(L_6_scores)) )\n",
    "print( np.sqrt(L_6_scores) )\n",
    "\n",
    "L_6_predictions_t = L_6.predict(train[['OverallQual','LotArea', 'GrLivArea']])\n",
    "L_6_resid_t = train_target - L_6_predictions_t"
   ]
  },
  {
   "cell_type": "code",
   "execution_count": 41,
   "metadata": {
    "collapsed": false
   },
   "outputs": [
    {
     "name": "stdout",
     "output_type": "stream",
     "text": [
      "SalePrice       1.000000\n",
      "BsmtFinType1    0.386739\n",
      "BsmtFinSF1      0.356313\n",
      "PavedDrive      0.312140\n",
      "BsmtFullBath    0.310068\n",
      "Name: SalePrice, dtype: float64\n"
     ]
    },
    {
     "data": {
      "text/plain": [
       "BsmtUnfSF       -0.142603\n",
       "2ndFlrSF        -0.153694\n",
       "EnclosedPorch   -0.184973\n",
       "YearRemodAdd    -0.304734\n",
       "YearBuilt       -0.366433\n",
       "Name: SalePrice, dtype: float64"
      ]
     },
     "execution_count": 41,
     "metadata": {},
     "output_type": "execute_result"
    }
   ],
   "source": [
    "corr_with_resid = train[num_feat].join(L_6_resid_t).corr()\n",
    "print( corr_with_resid['SalePrice'].sort_values(ascending=False).head() )\n",
    "corr_with_resid['SalePrice'].sort_values(ascending=False).tail()"
   ]
  },
  {
   "cell_type": "code",
   "execution_count": 42,
   "metadata": {
    "collapsed": false
   },
   "outputs": [
    {
     "name": "stdout",
     "output_type": "stream",
     "text": [
      "0.787415347728\n",
      "0.12749665754089193\n",
      "0.168713597849\n",
      "[ 0.15578175  0.17493623  0.17117563  0.15577275  0.18590163]\n"
     ]
    }
   ],
   "source": [
    "L_7 = lin.LinearRegression()\n",
    "L_7.fit(train[['OverallQual','LotArea', 'GrLivArea', 'YearBuilt']],train_target)\n",
    "print( L_7.score(test[['OverallQual','LotArea', 'GrLivArea', 'YearBuilt']],test_target) )\n",
    "L_7_predictions = L_7.predict(test[['OverallQual','LotArea', 'GrLivArea', 'YearBuilt']])\n",
    "L_7_resid = test_target - L_7_predictions\n",
    "print( rmse(L_7_resid) )\n",
    "L_7_scores = -cross_val_score(L_7, train_whole[['OverallQual','LotArea', 'GrLivArea', 'YearBuilt']], target_whole, cv=5, scoring='mean_squared_error')\n",
    "print( np.mean(np.sqrt(L_7_scores)) )\n",
    "print( np.sqrt(L_7_scores) )\n",
    "\n",
    "L_7_predictions_t = L_7.predict(train[['OverallQual','LotArea', 'GrLivArea', 'YearBuilt']])\n",
    "L_7_resid_t = train_target - L_7_predictions_t"
   ]
  },
  {
   "cell_type": "code",
   "execution_count": 43,
   "metadata": {
    "collapsed": false
   },
   "outputs": [
    {
     "name": "stdout",
     "output_type": "stream",
     "text": [
      "SalePrice       1.000000\n",
      "BsmtFinSF1      0.317679\n",
      "OverallCond     0.311217\n",
      "BsmtFinType1    0.292395\n",
      "BsmtFullBath    0.279114\n",
      "Name: SalePrice, dtype: float64\n"
     ]
    },
    {
     "data": {
      "text/plain": [
       "2ndFlrSF       -0.125568\n",
       "KitchenAbvGr   -0.126940\n",
       "BedroomAbvGr   -0.127234\n",
       "BsmtUnfSF      -0.146730\n",
       "YearRemodAdd   -0.188414\n",
       "Name: SalePrice, dtype: float64"
      ]
     },
     "execution_count": 43,
     "metadata": {},
     "output_type": "execute_result"
    }
   ],
   "source": [
    "corr_with_resid = train[num_feat].join(L_7_resid_t).corr()\n",
    "print( corr_with_resid['SalePrice'].sort_values(ascending=False).head() )\n",
    "corr_with_resid['SalePrice'].sort_values(ascending=False).tail()"
   ]
  },
  {
   "cell_type": "code",
   "execution_count": 44,
   "metadata": {
    "collapsed": false
   },
   "outputs": [
    {
     "name": "stdout",
     "output_type": "stream",
     "text": [
      "0.782094611645\n",
      "0.11692238253333732\n",
      "0.163379096442\n",
      "[ 0.14932193  0.1684544   0.16114549  0.14335832  0.19461534]\n"
     ]
    }
   ],
   "source": [
    "L_8 = lin.LinearRegression()\n",
    "L_8.fit(train[['OverallQual','LotArea', 'GrLivArea', 'YearBuilt', 'BsmtFinSF1']],train_target)\n",
    "print( L_8.score(test[['OverallQual','LotArea', 'GrLivArea', 'YearBuilt', 'BsmtFinSF1']],test_target) )\n",
    "L_8_predictions = L_8.predict(test[['OverallQual','LotArea', 'GrLivArea', 'YearBuilt', 'BsmtFinSF1']])\n",
    "L_8_resid = test_target - L_8_predictions\n",
    "print( rmse(L_8_resid) )\n",
    "L_8_scores = -cross_val_score(L_8, train_whole[['OverallQual','LotArea', 'GrLivArea', 'YearBuilt', 'BsmtFinSF1']], target_whole, cv=5, scoring='mean_squared_error')\n",
    "print( np.mean(np.sqrt(L_8_scores)) )\n",
    "print( np.sqrt(L_8_scores) )\n",
    "\n",
    "L_8_predictions_t = L_8.predict(train[['OverallQual','LotArea', 'GrLivArea', 'YearBuilt', 'BsmtFinSF1']])\n",
    "L_8_resid_t = train_target - L_8_predictions_t"
   ]
  },
  {
   "cell_type": "code",
   "execution_count": 45,
   "metadata": {
    "collapsed": false
   },
   "outputs": [
    {
     "name": "stdout",
     "output_type": "stream",
     "text": [
      "SalePrice      1.000000\n",
      "OverallCond    0.314205\n",
      "HeatingQC      0.173959\n",
      "KitchenQual    0.170612\n",
      "Functional     0.170082\n",
      "Name: SalePrice, dtype: float64\n"
     ]
    },
    {
     "data": {
      "text/plain": [
       "PoolQC         -0.049811\n",
       "2ndFlrSF       -0.064459\n",
       "BedroomAbvGr   -0.080745\n",
       "KitchenAbvGr   -0.135345\n",
       "YearRemodAdd   -0.210803\n",
       "Name: SalePrice, dtype: float64"
      ]
     },
     "execution_count": 45,
     "metadata": {},
     "output_type": "execute_result"
    }
   ],
   "source": [
    "corr_with_resid = train[num_feat].join(L_8_resid_t).corr()\n",
    "print( corr_with_resid['SalePrice'].sort_values(ascending=False).head() )\n",
    "corr_with_resid['SalePrice'].sort_values(ascending=False).tail()"
   ]
  },
  {
   "cell_type": "code",
   "execution_count": 46,
   "metadata": {
    "collapsed": false
   },
   "outputs": [
    {
     "name": "stdout",
     "output_type": "stream",
     "text": [
      "0.809585127306\n",
      "0.10645309420047172\n",
      "0.152450937011\n",
      "[ 0.13810609  0.15648843  0.15271099  0.13050976  0.18443941]\n"
     ]
    }
   ],
   "source": [
    "L_9 = lin.LinearRegression()\n",
    "L_9.fit(train[['OverallQual','LotArea', 'GrLivArea', 'YearBuilt', 'BsmtFinSF1', 'OverallCond']],train_target)\n",
    "print( L_9.score(test[['OverallQual','LotArea', 'GrLivArea', 'YearBuilt', 'BsmtFinSF1', 'OverallCond']],test_target) )\n",
    "L_9_predictions = L_9.predict(test[['OverallQual','LotArea', 'GrLivArea', 'YearBuilt', 'BsmtFinSF1', 'OverallCond']])\n",
    "L_9_resid = test_target - L_9_predictions\n",
    "print( rmse(L_9_resid) )\n",
    "L_9_scores = -cross_val_score(L_9, train_whole[['OverallQual','LotArea', 'GrLivArea', 'YearBuilt', 'BsmtFinSF1', 'OverallCond']], target_whole, cv=5, scoring='mean_squared_error')\n",
    "print( np.mean(np.sqrt(L_9_scores)) )\n",
    "print( np.sqrt(L_9_scores) )\n",
    "\n",
    "L_9_predictions_t = L_9.predict(train[['OverallQual','LotArea', 'GrLivArea', 'YearBuilt', 'BsmtFinSF1', 'OverallCond']])\n",
    "L_9_resid_t = train_target - L_9_predictions_t"
   ]
  },
  {
   "cell_type": "code",
   "execution_count": 47,
   "metadata": {
    "collapsed": false
   },
   "outputs": [
    {
     "name": "stdout",
     "output_type": "stream",
     "text": [
      "SalePrice      1.000000\n",
      "TotalBsmtSF    0.155863\n",
      "1stFlrSF       0.148654\n",
      "GarageArea     0.144222\n",
      "KitchenQual    0.139939\n",
      "Name: SalePrice, dtype: float64\n"
     ]
    },
    {
     "data": {
      "text/plain": [
       "MiscVal        -0.042146\n",
       "KitchenAbvGr   -0.099614\n",
       "2ndFlrSF       -0.101398\n",
       "BedroomAbvGr   -0.110822\n",
       "YearRemodAdd   -0.113576\n",
       "Name: SalePrice, dtype: float64"
      ]
     },
     "execution_count": 47,
     "metadata": {},
     "output_type": "execute_result"
    }
   ],
   "source": [
    "corr_with_resid = train[num_feat].join(L_9_resid_t).corr()\n",
    "print( corr_with_resid['SalePrice'].sort_values(ascending=False).head() )\n",
    "corr_with_resid['SalePrice'].sort_values(ascending=False).tail()"
   ]
  },
  {
   "cell_type": "code",
   "execution_count": 53,
   "metadata": {
    "collapsed": false
   },
   "outputs": [
    {
     "name": "stdout",
     "output_type": "stream",
     "text": [
      "['LotFrontage', 'YearRemodAdd', 'MasVnrArea', 'BsmtFinSF2', 'BsmtUnfSF', 'TotalBsmtSF', '1stFlrSF', '2ndFlrSF', 'LowQualFinSF', 'BsmtFullBath', 'BsmtHalfBath', 'FullBath', 'HalfBath', 'BedroomAbvGr', 'KitchenAbvGr', 'TotRmsAbvGrd', 'Fireplaces', 'GarageCars', 'GarageArea', 'WoodDeckSF', 'OpenPorchSF', 'EnclosedPorch', '3SsnPorch', 'ScreenPorch', 'PoolArea', 'MiscVal', 'Street', 'LotShape', 'Utilities', 'LandSlope', 'ExterQual', 'ExterCond', 'BsmtQual', 'BsmtCond', 'BsmtExposure', 'BsmtFinType1', 'BsmtFinType2', 'HeatingQC', 'KitchenQual', 'Functional', 'FireplaceQu', 'GarageQual', 'GarageCond', 'PavedDrive', 'PoolQC']\n"
     ]
    }
   ],
   "source": [
    "#for i in ['OverallQual','LotArea', 'GrLivArea', 'YearBuilt', 'BsmtFinSF1', 'OverallCond']:\n",
    "\n",
    "#    num_feat_minus = num_feat.remove(i)\n",
    "\n",
    "\n",
    "print( num_feat )"
   ]
  },
  {
   "cell_type": "code",
   "execution_count": 60,
   "metadata": {
    "collapsed": false
   },
   "outputs": [
    {
     "name": "stdout",
     "output_type": "stream",
     "text": [
      "0.841016230965\n",
      "0.11074243666404539\n",
      "0.151579708698\n",
      "[ 0.15141182  0.16004882  0.15124813  0.13860747  0.1565823 ]\n"
     ]
    }
   ],
   "source": [
    "R_3 = RandomForestRegressor(n_estimators = 50)\n",
    "R_3.fit(train[['OverallQual','LotArea', 'GrLivArea', 'YearBuilt', 'BsmtFinSF1', 'OverallCond']],train_target)\n",
    "print( R_3.score(test[['OverallQual','LotArea', 'GrLivArea', 'YearBuilt', 'BsmtFinSF1', 'OverallCond']],test_target) )\n",
    "R_3_predictions = R_3.predict(test[['OverallQual','LotArea', 'GrLivArea', 'YearBuilt', 'BsmtFinSF1', 'OverallCond']])\n",
    "R_3_resid = test_target - R_3_predictions\n",
    "print( rmse(R_3_resid) )\n",
    "R_3_scores = -cross_val_score(R_3, train_whole[['OverallQual','LotArea', 'GrLivArea', 'YearBuilt', 'BsmtFinSF1', 'OverallCond']], target_whole, cv=5, scoring='mean_squared_error')\n",
    "print( np.mean(np.sqrt(R_3_scores)) )\n",
    "print( np.sqrt(R_3_scores) )"
   ]
  },
  {
   "cell_type": "code",
   "execution_count": 61,
   "metadata": {
    "collapsed": false
   },
   "outputs": [
    {
     "name": "stderr",
     "output_type": "stream",
     "text": [
      "C:\\Users\\jherrmann\\AppData\\Local\\Continuum\\Anaconda3\\lib\\site-packages\\ipykernel\\__main__.py:6: FutureWarning: sort(columns=....) is deprecated, use sort_values(by=.....)\n"
     ]
    },
    {
     "data": {
      "text/plain": [
       "(      Features  Importance Score\n",
       " 0  OverallQual          0.595659\n",
       " 2    GrLivArea          0.179932\n",
       " 3    YearBuilt          0.082980\n",
       " 4   BsmtFinSF1          0.060282\n",
       " 1      LotArea          0.054209\n",
       " 5  OverallCond          0.026938,       Features  Importance Score\n",
       " 2    GrLivArea          0.179932\n",
       " 3    YearBuilt          0.082980\n",
       " 4   BsmtFinSF1          0.060282\n",
       " 1      LotArea          0.054209\n",
       " 5  OverallCond          0.026938)"
      ]
     },
     "execution_count": 61,
     "metadata": {},
     "output_type": "execute_result"
    }
   ],
   "source": [
    "features = ['OverallQual','LotArea', 'GrLivArea', 'YearBuilt', 'BsmtFinSF1', 'OverallCond']\n",
    "\n",
    "feature_importances = R_3.feature_importances_\n",
    "\n",
    "features_df = pd.DataFrame({'Features': features, 'Importance Score': feature_importances})\n",
    "features_df.sort('Importance Score', inplace=True, ascending=False)\n",
    "\n",
    "features_df.head(15), features_df.tail()"
   ]
  },
  {
   "cell_type": "code",
   "execution_count": null,
   "metadata": {
    "collapsed": false
   },
   "outputs": [],
   "source": []
  },
  {
   "cell_type": "code",
   "execution_count": null,
   "metadata": {
    "collapsed": true
   },
   "outputs": [],
   "source": [
    "\n",
    "    "
   ]
  }
 ],
 "metadata": {
  "kernelspec": {
   "display_name": "Python 3",
   "language": "python",
   "name": "python3"
  },
  "language_info": {
   "codemirror_mode": {
    "name": "ipython",
    "version": 3
   },
   "file_extension": ".py",
   "mimetype": "text/x-python",
   "name": "python",
   "nbconvert_exporter": "python",
   "pygments_lexer": "ipython3",
   "version": "3.5.2"
  }
 },
 "nbformat": 4,
 "nbformat_minor": 0
}
