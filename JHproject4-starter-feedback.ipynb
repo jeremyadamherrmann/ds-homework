{
 "cells": [
  {
   "cell_type": "markdown",
   "metadata": {},
   "source": [
    "# Project 4\n",
    "\n",
    "In this project, you will summarize and present your analysis from Projects 1-3."
   ]
  },
  {
   "cell_type": "markdown",
   "metadata": {},
   "source": [
    "### Intro: Write a problem Statement/ Specific Aim for this project"
   ]
  },
  {
   "cell_type": "markdown",
   "metadata": {},
   "source": [
    "Answer: How do different factors contribute to a student's chance of being admitted to graduate school?  Using the admissions data, we will identify relationships between GPA, GRE score, undergraduate school prestige rank and admission to graduate school.  We will develop a model that will help to predict the probability of admission."
   ]
  },
  {
   "cell_type": "markdown",
   "metadata": {},
   "source": [
    "### Dataset:  Write up a description of your data and any cleaning that was completed"
   ]
  },
  {
   "cell_type": "markdown",
   "metadata": {},
   "source": [
    "Answer: After dropping missing values, the data contains 397 instances of 4 variables.  Each instance represents one student applying to graduate school.  The 'admit' column contains a 1 or 0 depending on whether or not a student was admitted to grad school.  The 'gpa' column contains the student's gpa.  The 'gre' column contains the student's gre score.  The 'prestige' column contains the prestige rank of the student's undergraduate institution, with 1 being the most prestigous.  The prestige column was converted to dummy variables with each orestige rank having its own column containing a 1 or 0 depending on that particular student's school's prestige rank."
   ]
  },
  {
   "cell_type": "markdown",
   "metadata": {
    "collapsed": true
   },
   "source": [
    "### Demo: Provide a table that explains the data by admission status"
   ]
  },
  {
   "cell_type": "markdown",
   "metadata": {},
   "source": [
    "Mean (STD) or counts by admission status for each variable \n",
    "\n",
    "| Not Admitted | Admitted\n",
    "---| ---|---\n",
    "GPA | 3.34(0.37)  | 3.48(0.37)\n",
    "GRE | 573.57(116.052) | 618.57(109.25)\n",
    "Prestige 1 | 7% | 8%\n",
    "Prestige 2 | 24% | 13%\n",
    "Prestige 3 | 23% | 7%\n",
    "Prestige 4 | 14% | 3%"
   ]
  },
  {
   "cell_type": "markdown",
   "metadata": {},
   "source": [
    "### Methods: Write up the methods used in your analysis"
   ]
  },
  {
   "cell_type": "markdown",
   "metadata": {},
   "source": [
    "Answer:  We created a logistical regression using gre, gpa, and prestige as predictors of admissions.  We examined the odds ratio of each variable to determine their relative impact on chance of admission.  We visualizes the effects of prestige rank on probability of admissions while controling for gre score and gpa."
   ]
  },
  {
   "cell_type": "markdown",
   "metadata": {},
   "source": [
    "### Results: Write up your results"
   ]
  },
  {
   "cell_type": "markdown",
   "metadata": {},
   "source": [
    "Answer:  Prestige rank has a significant impact on probability of admission, even for students with simlar gre scores and gpa.  Each point on your gre score multiplies yours proability of addmission by 1.002221.  Each whole point increase in your gpa multiplies your probability of admission by 2.180027.  Students of prestige rank 2 are about half as likely to be admitted as students of rank 1.  Students of ranks 3 and 4 are about half as likely to be admitted when compared to prestige rank 2."
   ]
  },
  {
   "cell_type": "markdown",
   "metadata": {},
   "source": [
    "### Visuals: Provide a table or visualization of these results"
   ]
  },
  {
   "cell_type": "markdown",
   "metadata": {},
   "source": [
    "<img src='figure1.png' height= 25% width= 25%>"
   ]
  },
  {
   "cell_type": "markdown",
   "metadata": {},
   "source": [
    "<img src='figure2.png' height= 25% width= 25%>"
   ]
  },
  {
   "cell_type": "markdown",
   "metadata": {},
   "source": [
    "### Discussion: Write up your discussion and future steps"
   ]
  },
  {
   "cell_type": "markdown",
   "metadata": {},
   "source": [
    "Answer: While the model that we created is able to tell us the relative effects of increases in gre, gpa and prestige rank, it is not significantly more accurate at predication than assuming the population average rate of admission.  We will proceed to vary the threshold in order to maximize our models predictive ability.  Additionally, more instances of our data including more variables, for example, race, gender, parental income, etc. would contribute to an improved model."
   ]
  },
  {
   "cell_type": "markdown",
   "metadata": {},
   "source": [
    "## Feedback\n",
    "Great!\n",
    "\n",
    "| Requirements | Incomplete (0) | Does Not Meet Expectations (1) | Meets Expectations (2) | Exceeds Expectations (3) |\n",
    "|---|---|---|---|---|\n",
    "| Outlined methods and models | | |X | |\n",
    "| Articulation of \"specific aim\" and datasets | | |X | |\n",
    "| Risks and assumptions | | |X | |\n",
    "| Goals and criteria for success | | |X | |\n",
    "| Exploratory data analysis overview with visualizations and statistical analysis | | |X | |\n",
    "| Writeup with interpretation of findings, an executive summary, conclusions, and next steps | | |X | |"
   ]
  },
  {
   "cell_type": "code",
   "execution_count": null,
   "metadata": {
    "collapsed": true
   },
   "outputs": [],
   "source": []
  }
 ],
 "metadata": {
  "kernelspec": {
   "display_name": "Python 2",
   "language": "python",
   "name": "python2"
  },
  "language_info": {
   "codemirror_mode": {
    "name": "ipython",
    "version": 2
   },
   "file_extension": ".py",
   "mimetype": "text/x-python",
   "name": "python",
   "nbconvert_exporter": "python",
   "pygments_lexer": "ipython2",
   "version": "2.7.12"
  }
 },
 "nbformat": 4,
 "nbformat_minor": 0
}
